{
  "nbformat": 4,
  "nbformat_minor": 0,
  "metadata": {
    "colab": {
      "provenance": [],
      "authorship_tag": "ABX9TyOtw+EiYeCaKXOz4bCx7m1e",
      "include_colab_link": true
    },
    "kernelspec": {
      "name": "python3",
      "display_name": "Python 3"
    },
    "language_info": {
      "name": "python"
    }
  },
  "cells": [
    {
      "cell_type": "markdown",
      "metadata": {
        "id": "view-in-github",
        "colab_type": "text"
      },
      "source": [
        "<a href=\"https://colab.research.google.com/github/nayvti380/Data-Science/blob/main/Data_Science_10.ipynb\" target=\"_parent\"><img src=\"https://colab.research.google.com/assets/colab-badge.svg\" alt=\"Open In Colab\"/></a>"
      ]
    },
    {
      "cell_type": "code",
      "execution_count": null,
      "metadata": {
        "id": "HchytuLPNB_f"
      },
      "outputs": [],
      "source": [
        "import pandas as pd\n",
        "from sklearn.model_selection import train_test_split, cross_val_score, StratifiedKFold, GridSearchCV\n",
        "from sklearn.linear_model import LogisticRegression\n",
        "from sklearn.metrics import precision_score, recall_score, roc_curve, auc, confusion_matrix, classification_report\n",
        "import matplotlib.pyplot as plt\n",
        "import numpy as np"
      ]
    },
    {
      "cell_type": "code",
      "source": [
        "url = r\"https://archive.ics.uci.edu/ml/machine-learning-databases/heart-disease/processed.cleveland.data\"\n",
        "column_names = [\n",
        "    \"age\", \"sex\", \"cp\", \"trestbps\", \"chol\", \"fbs\", \"restecg\",\n",
        "    \"thalach\", \"exang\", \"oldpeak\", \"slope\", \"ca\", \"thal\", \"target\"\n",
        "]\n",
        "df = pd.read_csv(url, names=column_names)\n",
        "print(df.head())"
      ],
      "metadata": {
        "colab": {
          "base_uri": "https://localhost:8080/"
        },
        "id": "ore3zYgfNVUH",
        "outputId": "ecabebde-4a27-4af3-ecaf-86d5663103b2"
      },
      "execution_count": null,
      "outputs": [
        {
          "output_type": "stream",
          "name": "stdout",
          "text": [
            "    age  sex   cp  trestbps   chol  fbs  restecg  thalach  exang  oldpeak  \\\n",
            "0  63.0  1.0  1.0     145.0  233.0  1.0      2.0    150.0    0.0      2.3   \n",
            "1  67.0  1.0  4.0     160.0  286.0  0.0      2.0    108.0    1.0      1.5   \n",
            "2  67.0  1.0  4.0     120.0  229.0  0.0      2.0    129.0    1.0      2.6   \n",
            "3  37.0  1.0  3.0     130.0  250.0  0.0      0.0    187.0    0.0      3.5   \n",
            "4  41.0  0.0  2.0     130.0  204.0  0.0      2.0    172.0    0.0      1.4   \n",
            "\n",
            "   slope   ca thal  target  \n",
            "0    3.0  0.0  6.0       0  \n",
            "1    2.0  3.0  3.0       2  \n",
            "2    2.0  2.0  7.0       1  \n",
            "3    3.0  0.0  3.0       0  \n",
            "4    1.0  0.0  3.0       0  \n"
          ]
        }
      ]
    },
    {
      "cell_type": "code",
      "source": [
        "df.info()"
      ],
      "metadata": {
        "colab": {
          "base_uri": "https://localhost:8080/"
        },
        "id": "2-Imo4TdNvs2",
        "outputId": "ff533ac5-c6d8-438c-9256-1c69621271ef"
      },
      "execution_count": null,
      "outputs": [
        {
          "output_type": "stream",
          "name": "stdout",
          "text": [
            "<class 'pandas.core.frame.DataFrame'>\n",
            "Index: 297 entries, 0 to 301\n",
            "Data columns (total 14 columns):\n",
            " #   Column    Non-Null Count  Dtype  \n",
            "---  ------    --------------  -----  \n",
            " 0   age       297 non-null    float64\n",
            " 1   sex       297 non-null    float64\n",
            " 2   cp        297 non-null    float64\n",
            " 3   trestbps  297 non-null    float64\n",
            " 4   chol      297 non-null    float64\n",
            " 5   fbs       297 non-null    float64\n",
            " 6   restecg   297 non-null    float64\n",
            " 7   thalach   297 non-null    float64\n",
            " 8   exang     297 non-null    float64\n",
            " 9   oldpeak   297 non-null    float64\n",
            " 10  slope     297 non-null    float64\n",
            " 11  ca        297 non-null    float64\n",
            " 12  thal      297 non-null    float64\n",
            " 13  target    297 non-null    int64  \n",
            "dtypes: float64(13), int64(1)\n",
            "memory usage: 34.8 KB\n"
          ]
        }
      ]
    },
    {
      "cell_type": "code",
      "source": [
        "for coluna in df.columns:\n",
        "    print(f\"Coluna: {coluna}\")\n",
        "    print(f\"Valores únicos: {df[coluna].unique()}\")"
      ],
      "metadata": {
        "colab": {
          "base_uri": "https://localhost:8080/"
        },
        "id": "_60rZ99pOJMu",
        "outputId": "81c43154-191c-4131-8f9c-3e0a362309aa"
      },
      "execution_count": null,
      "outputs": [
        {
          "output_type": "stream",
          "name": "stdout",
          "text": [
            "Coluna: age\n",
            "Valores únicos: [63. 67. 37. 41. 56. 62. 57. 53. 44. 52. 48. 54. 49. 64. 58. 60. 50. 66.\n",
            " 43. 40. 69. 59. 42. 55. 61. 65. 71. 51. 46. 45. 39. 68. 47. 34. 35. 29.\n",
            " 70. 77. 38. 74. 76.]\n",
            "Coluna: sex\n",
            "Valores únicos: [1. 0.]\n",
            "Coluna: cp\n",
            "Valores únicos: [1. 4. 3. 2.]\n",
            "Coluna: trestbps\n",
            "Valores únicos: [145. 160. 120. 130. 140. 172. 150. 110. 132. 117. 135. 112. 105. 124.\n",
            " 125. 142. 128. 170. 155. 104. 180. 138. 108. 134. 122. 115. 118. 100.\n",
            " 200.  94. 165. 102. 152. 101. 126. 174. 148. 178. 158. 192. 129. 144.\n",
            " 123. 136. 146. 106. 156. 154. 114. 164.]\n",
            "Coluna: chol\n",
            "Valores únicos: [233. 286. 229. 250. 204. 236. 268. 354. 254. 203. 192. 294. 256. 263.\n",
            " 199. 168. 239. 275. 266. 211. 283. 284. 224. 206. 219. 340. 226. 247.\n",
            " 167. 230. 335. 234. 177. 276. 353. 243. 225. 302. 212. 330. 175. 417.\n",
            " 197. 198. 290. 253. 172. 273. 213. 305. 216. 304. 188. 282. 185. 232.\n",
            " 326. 231. 269. 267. 248. 360. 258. 308. 245. 270. 208. 264. 321. 274.\n",
            " 325. 235. 257. 164. 141. 252. 255. 201. 222. 260. 182. 303. 265. 309.\n",
            " 307. 249. 186. 341. 183. 407. 217. 288. 220. 209. 227. 261. 174. 281.\n",
            " 221. 205. 240. 289. 318. 298. 564. 246. 322. 299. 300. 293. 277. 214.\n",
            " 207. 160. 394. 184. 315. 409. 244. 195. 196. 126. 313. 259. 200. 262.\n",
            " 215. 228. 193. 271. 210. 327. 149. 295. 306. 178. 237. 218. 223. 242.\n",
            " 319. 166. 180. 311. 278. 342. 169. 187. 157. 176. 241. 131.]\n",
            "Coluna: fbs\n",
            "Valores únicos: [1. 0.]\n",
            "Coluna: restecg\n",
            "Valores únicos: [2. 0. 1.]\n",
            "Coluna: thalach\n",
            "Valores únicos: [150. 108. 129. 187. 172. 178. 160. 163. 147. 155. 148. 153. 142. 173.\n",
            " 162. 174. 168. 139. 171. 144. 132. 158. 114. 151. 161. 179. 120. 112.\n",
            " 137. 157. 169. 165. 123. 128. 152. 140. 188. 109. 125. 131. 170. 113.\n",
            "  99. 177. 141. 180. 111. 143. 182. 156. 149. 145. 146. 175. 186. 185.\n",
            " 159. 130. 190. 136.  97. 127. 154. 133. 126. 202. 103. 166. 164. 184.\n",
            " 124. 122.  96. 138.  88. 105. 194. 195. 106. 115. 167.  95. 192. 117.\n",
            " 121. 116.  71. 118. 181. 134.  90.]\n",
            "Coluna: exang\n",
            "Valores únicos: [0. 1.]\n",
            "Coluna: oldpeak\n",
            "Valores únicos: [2.3 1.5 2.6 3.5 1.4 0.8 3.6 0.6 3.1 0.4 1.3 0.  0.5 1.6 1.  1.2 0.2 1.8\n",
            " 3.2 2.4 2.  2.5 2.2 2.8 3.  3.4 6.2 4.  5.6 2.9 0.1 2.1 1.9 4.2 0.9 1.1\n",
            " 3.8 0.7 0.3 4.4]\n",
            "Coluna: slope\n",
            "Valores únicos: [3. 2. 1.]\n",
            "Coluna: ca\n",
            "Valores únicos: [0. 3. 2. 1.]\n",
            "Coluna: thal\n",
            "Valores únicos: [6. 3. 7.]\n",
            "Coluna: target\n",
            "Valores únicos: [0 1]\n"
          ]
        }
      ]
    },
    {
      "cell_type": "code",
      "source": [
        "print(df[\"ca\"].value_counts())\n",
        "print(df[\"thal\"].value_counts())\n",
        "print(df.shape)"
      ],
      "metadata": {
        "colab": {
          "base_uri": "https://localhost:8080/"
        },
        "id": "iQhdLWzMOrIt",
        "outputId": "d75455d6-e1b7-4b52-a3a6-2fb361fec5d0"
      },
      "execution_count": null,
      "outputs": [
        {
          "output_type": "stream",
          "name": "stdout",
          "text": [
            "ca\n",
            "0.0    176\n",
            "1.0     65\n",
            "2.0     38\n",
            "3.0     20\n",
            "?        4\n",
            "Name: count, dtype: int64\n",
            "thal\n",
            "3.0    166\n",
            "7.0    117\n",
            "6.0     18\n",
            "?        2\n",
            "Name: count, dtype: int64\n",
            "(303, 14)\n"
          ]
        }
      ]
    },
    {
      "cell_type": "code",
      "source": [
        "df = df.replace('?', np.nan)\n",
        "df = df.dropna()"
      ],
      "metadata": {
        "id": "3g8l0h94O6v9"
      },
      "execution_count": null,
      "outputs": []
    },
    {
      "cell_type": "code",
      "source": [
        "df['ca'] = pd.to_numeric(df['ca'])\n",
        "df['thal'] = pd.to_numeric(df['thal'])\n",
        "# A coluna 'target' indica a presença de doença cardíaca (0 = não, >0 = sim).\n",
        "# Vamos binarizar para 0 (não) e 1 (sim).\n",
        "df['target'] = df['target'].apply(lambda x: 1 if x > 0 else 0)"
      ],
      "metadata": {
        "id": "pG3o3I9uQBHJ"
      },
      "execution_count": null,
      "outputs": []
    },
    {
      "cell_type": "markdown",
      "source": [
        "# Matriz de Confusão"
      ],
      "metadata": {
        "id": "O82IZwvRQDWL"
      }
    },
    {
      "cell_type": "code",
      "source": [
        "x = df.drop('target', axis=1)\n",
        "y = df['target']"
      ],
      "metadata": {
        "id": "9m0XCSO0QOMr"
      },
      "execution_count": null,
      "outputs": []
    },
    {
      "cell_type": "code",
      "source": [
        "x_train, x_test, y_train, y_test = train_test_split(x, y, test_size=0.3, random_state=42, stratify=y)\n",
        "print(f\"Proporção de classes no treino:\\n{y_train.value_counts(normalize=True)}\")\n",
        "print(f\"Proporção de classes no teste:\\n{y_test.value_counts(normalize=True)}\")"
      ],
      "metadata": {
        "colab": {
          "base_uri": "https://localhost:8080/"
        },
        "id": "op7bZBcBQodi",
        "outputId": "50d75dfb-e8ce-45be-c3ed-dc6385889b3f"
      },
      "execution_count": null,
      "outputs": [
        {
          "output_type": "stream",
          "name": "stdout",
          "text": [
            "Proporção de classes no treino:\n",
            "target\n",
            "0    0.541063\n",
            "1    0.458937\n",
            "Name: proportion, dtype: float64\n",
            "Proporção de classes no teste:\n",
            "target\n",
            "0    0.533333\n",
            "1    0.466667\n",
            "Name: proportion, dtype: float64\n"
          ]
        }
      ]
    },
    {
      "cell_type": "code",
      "source": [
        "\n",
        "model = LogisticRegression(solver='liblinear', random_state=42) # 'liblinear' é bom para datasets menores\n",
        "model.fit(x_train, y_train)\n",
        "model.score(x_train, y_train)"
      ],
      "metadata": {
        "colab": {
          "base_uri": "https://localhost:8080/"
        },
        "id": "NLlj6uFERU97",
        "outputId": "5f05a098-d443-405f-efcd-9cdcb1234976"
      },
      "execution_count": null,
      "outputs": [
        {
          "output_type": "execute_result",
          "data": {
            "text/plain": [
              "0.8357487922705314"
            ]
          },
          "metadata": {},
          "execution_count": 18
        }
      ]
    },
    {
      "cell_type": "code",
      "source": [
        "y_pred = model.predict(x_test)"
      ],
      "metadata": {
        "id": "-dOM_wH7Rd4r"
      },
      "execution_count": null,
      "outputs": []
    },
    {
      "cell_type": "code",
      "source": [
        "# Ajuda a visualizar True Positives (TP), True Negatives (TN), False Positives (FP), False Negatives (FN)\n",
        "conf_mat = confusion_matrix(y_test, y_pred)\n",
        "print(conf_mat)\n",
        "print(f\"\"\"\n",
        "TN|FP\n",
        "FN|TP\n",
        "\"\"\")"
      ],
      "metadata": {
        "colab": {
          "base_uri": "https://localhost:8080/"
        },
        "id": "ST-WJwyuRvd5",
        "outputId": "b71baf4b-fdb4-469e-8971-107e2fca57f2"
      },
      "execution_count": null,
      "outputs": [
        {
          "output_type": "stream",
          "name": "stdout",
          "text": [
            "[[45  3]\n",
            " [ 7 35]]\n",
            "\n",
            "TN|FP\n",
            "FN|TP\n",
            "\n"
          ]
        }
      ]
    },
    {
      "cell_type": "code",
      "source": [
        "# Precision: Dos que o modelo previu como positivos, quantos são realmente positivos?\n",
        "# TP / (TP + FP)\n",
        "precision = precision_score(y_test, y_pred)\n",
        "print(f\"\\nPrecision: {precision:.4f}\")\n",
        "print(\"Interpretação: Dos pacientes que nosso modelo previu terem doença cardíaca, \"\n",
        "      f\"{precision*100:.2f}% realmente têm a doença.\")"
      ],
      "metadata": {
        "colab": {
          "base_uri": "https://localhost:8080/"
        },
        "id": "BxXniYR_SV7r",
        "outputId": "9b7b15a1-da26-4c99-904c-fb93faf1d14a"
      },
      "execution_count": null,
      "outputs": [
        {
          "output_type": "stream",
          "name": "stdout",
          "text": [
            "\n",
            "Precision: 0.9211\n",
            "Interpretação: Dos pacientes que nosso modelo previu terem doença cardíaca, 92.11% realmente têm a doença.\n"
          ]
        }
      ]
    },
    {
      "cell_type": "code",
      "source": [
        "# Recall (Sensibilidade): Dos que são realmente positivos, quantos o modelo conseguiu identificar?\n",
        "# TP / (TP + FN)\n",
        "recall = recall_score(y_test, y_pred)\n",
        "print(f\"Recall: {recall:.4f}\")\n",
        "print(\"Interpretação: De todos os pacientes que REALMENTE têm doença cardíaca, \"\n",
        "      f\"nosso modelo identificou corretamente {recall*100:.2f}% deles.\")"
      ],
      "metadata": {
        "colab": {
          "base_uri": "https://localhost:8080/"
        },
        "id": "VnO0jRiwSeOx",
        "outputId": "815ad165-601a-48f8-9854-c2c25ecc6fd4"
      },
      "execution_count": null,
      "outputs": [
        {
          "output_type": "stream",
          "name": "stdout",
          "text": [
            "Recall: 0.8333\n",
            "Interpretação: De todos os pacientes que REALMENTE têm doença cardíaca, nosso modelo identificou corretamente 83.33% deles.\n"
          ]
        }
      ]
    },
    {
      "cell_type": "code",
      "source": [
        "print(classification_report(y_test, y_pred, target_names=['Sem Doença', 'Com Doença']))\n",
        "#Compare Precision e Recall. Um valor alto em um pode significar um valor baixo no outro,\n",
        "#dependendo do threshold e do objetivo do problema. Para detecção de doenças, Recall costuma ser muito importante."
      ],
      "metadata": {
        "colab": {
          "base_uri": "https://localhost:8080/"
        },
        "id": "fCbLrTV2S04h",
        "outputId": "0d0376c5-a418-4443-fcaf-8a5f1f182a36"
      },
      "execution_count": null,
      "outputs": [
        {
          "output_type": "stream",
          "name": "stdout",
          "text": [
            "              precision    recall  f1-score   support\n",
            "\n",
            "  Sem Doença       0.87      0.94      0.90        48\n",
            "  Com Doença       0.92      0.83      0.88        42\n",
            "\n",
            "    accuracy                           0.89        90\n",
            "   macro avg       0.89      0.89      0.89        90\n",
            "weighted avg       0.89      0.89      0.89        90\n",
            "\n"
          ]
        }
      ]
    },
    {
      "cell_type": "markdown",
      "source": [
        "# AUC"
      ],
      "metadata": {
        "id": "P-5gpH2jdP8j"
      }
    },
    {
      "cell_type": "code",
      "source": [
        "y_pred_proba = model.predict_proba(x_test)[:, 1]\n",
        "\n",
        "fpr, tpr, thresholds = roc_curve(y_test, y_pred_proba)\n",
        "roc_auc = auc(fpr, tpr)\n",
        "\n",
        "print(f\"AUC (Area Under the Curve): {roc_auc:.4f}\")\n",
        "print(\"Interpretação: Um AUC de 1.0 significa um modelo perfeito, 0.5 significa aleatório. \"\n",
        "      f\"Nosso modelo tem uma boa capacidade de discriminação com AUC de {roc_auc:.4f}.\")"
      ],
      "metadata": {
        "colab": {
          "base_uri": "https://localhost:8080/"
        },
        "id": "R52yWVN5dSbq",
        "outputId": "3312f10a-5f52-4907-e3a3-0f0dc0b1dce6"
      },
      "execution_count": null,
      "outputs": [
        {
          "output_type": "stream",
          "name": "stdout",
          "text": [
            "AUC (Area Under the Curve): 0.9459\n",
            "Interpretação: Um AUC de 1.0 significa um modelo perfeito, 0.5 significa aleatório. Nosso modelo tem uma boa capacidade de discriminação com AUC de 0.9459.\n"
          ]
        }
      ]
    }
  ]
}